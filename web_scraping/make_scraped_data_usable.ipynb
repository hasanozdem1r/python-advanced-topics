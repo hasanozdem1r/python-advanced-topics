{
 "cells": [
  {
   "cell_type": "code",
   "execution_count": 19,
   "metadata": {
    "pycharm": {
     "name": "#%%\n"
    }
   },
   "outputs": [],
   "source": [
    "import warnings\n",
    "\n",
    "import matplotlib.pyplot as plt\n",
    "\n",
    "warnings.simplefilter(action='ignore',category=FutureWarning)\n",
    "\n",
    "%matplotlib inline\n",
    "import matplotlib.pyplot as pl\n",
    "import pandas as pd\n",
    "import seaborn as sns\n",
    "SCRAPED_CSV='scraped_cars.csv'\n"
   ]
  },
  {
   "cell_type": "markdown",
   "metadata": {},
   "source": [
    "## Load CSS and Review"
   ]
  },
  {
   "cell_type": "code",
   "execution_count": 10,
   "metadata": {
    "pycharm": {
     "name": "#%%\n"
    }
   },
   "outputs": [
    {
     "data": {
      "text/plain": "                        name  cylinders  weight  year territory  accelaration  \\\n0  Chevrolet Chevelle Malibu          8    3504  1970       USA          12.0   \n1          Buick Skylark 320          8    3693  1970       USA          11.5   \n2         Plymouth Satellite          8    3436  1970       USA          11.0   \n3              Amc Rebel Sst          8    3433  1970       USA          12.0   \n4                Ford Torino          8    3449  1970       USA          10.5   \n\n    mpg  horse_power  displacement  \n0  18.0        130.0         307.0  \n1  15.0        165.0         350.0  \n2  18.0        150.0         318.0  \n3  16.0        150.0         304.0  \n4  17.0        140.0         302.0  ",
      "text/html": "<div>\n<style scoped>\n    .dataframe tbody tr th:only-of-type {\n        vertical-align: middle;\n    }\n\n    .dataframe tbody tr th {\n        vertical-align: top;\n    }\n\n    .dataframe thead th {\n        text-align: right;\n    }\n</style>\n<table border=\"1\" class=\"dataframe\">\n  <thead>\n    <tr style=\"text-align: right;\">\n      <th></th>\n      <th>name</th>\n      <th>cylinders</th>\n      <th>weight</th>\n      <th>year</th>\n      <th>territory</th>\n      <th>accelaration</th>\n      <th>mpg</th>\n      <th>horse_power</th>\n      <th>displacement</th>\n    </tr>\n  </thead>\n  <tbody>\n    <tr>\n      <th>0</th>\n      <td>Chevrolet Chevelle Malibu</td>\n      <td>8</td>\n      <td>3504</td>\n      <td>1970</td>\n      <td>USA</td>\n      <td>12.0</td>\n      <td>18.0</td>\n      <td>130.0</td>\n      <td>307.0</td>\n    </tr>\n    <tr>\n      <th>1</th>\n      <td>Buick Skylark 320</td>\n      <td>8</td>\n      <td>3693</td>\n      <td>1970</td>\n      <td>USA</td>\n      <td>11.5</td>\n      <td>15.0</td>\n      <td>165.0</td>\n      <td>350.0</td>\n    </tr>\n    <tr>\n      <th>2</th>\n      <td>Plymouth Satellite</td>\n      <td>8</td>\n      <td>3436</td>\n      <td>1970</td>\n      <td>USA</td>\n      <td>11.0</td>\n      <td>18.0</td>\n      <td>150.0</td>\n      <td>318.0</td>\n    </tr>\n    <tr>\n      <th>3</th>\n      <td>Amc Rebel Sst</td>\n      <td>8</td>\n      <td>3433</td>\n      <td>1970</td>\n      <td>USA</td>\n      <td>12.0</td>\n      <td>16.0</td>\n      <td>150.0</td>\n      <td>304.0</td>\n    </tr>\n    <tr>\n      <th>4</th>\n      <td>Ford Torino</td>\n      <td>8</td>\n      <td>3449</td>\n      <td>1970</td>\n      <td>USA</td>\n      <td>10.5</td>\n      <td>17.0</td>\n      <td>140.0</td>\n      <td>302.0</td>\n    </tr>\n  </tbody>\n</table>\n</div>"
     },
     "execution_count": 10,
     "metadata": {},
     "output_type": "execute_result"
    }
   ],
   "source": [
    "df_raw=pd.read_csv(SCRAPED_CSV)\n",
    "df=df_raw.copy()\n",
    "df.head()"
   ]
  },
  {
   "cell_type": "code",
   "execution_count": 11,
   "metadata": {},
   "outputs": [
    {
     "data": {
      "text/plain": "(406, 9)"
     },
     "execution_count": 11,
     "metadata": {},
     "output_type": "execute_result"
    }
   ],
   "source": [
    "df.shape"
   ]
  },
  {
   "cell_type": "code",
   "execution_count": 12,
   "metadata": {},
   "outputs": [
    {
     "data": {
      "text/plain": "                     name  cylinders  weight  year territory  accelaration  \\\n121  Fiat 124 Sport Coupe          4    2265  1970       USA          15.5   \n\n      mpg  horse_power  displacement  \n121  26.0         90.0          98.0  ",
      "text/html": "<div>\n<style scoped>\n    .dataframe tbody tr th:only-of-type {\n        vertical-align: middle;\n    }\n\n    .dataframe tbody tr th {\n        vertical-align: top;\n    }\n\n    .dataframe thead th {\n        text-align: right;\n    }\n</style>\n<table border=\"1\" class=\"dataframe\">\n  <thead>\n    <tr style=\"text-align: right;\">\n      <th></th>\n      <th>name</th>\n      <th>cylinders</th>\n      <th>weight</th>\n      <th>year</th>\n      <th>territory</th>\n      <th>accelaration</th>\n      <th>mpg</th>\n      <th>horse_power</th>\n      <th>displacement</th>\n    </tr>\n  </thead>\n  <tbody>\n    <tr>\n      <th>121</th>\n      <td>Fiat 124 Sport Coupe</td>\n      <td>4</td>\n      <td>2265</td>\n      <td>1970</td>\n      <td>USA</td>\n      <td>15.5</td>\n      <td>26.0</td>\n      <td>90.0</td>\n      <td>98.0</td>\n    </tr>\n  </tbody>\n</table>\n</div>"
     },
     "execution_count": 12,
     "metadata": {},
     "output_type": "execute_result"
    }
   ],
   "source": [
    "df.sample()"
   ]
  },
  {
   "cell_type": "code",
   "execution_count": 13,
   "outputs": [
    {
     "data": {
      "text/plain": "        cylinders       weight    year  accelaration         mpg  horse_power  \\\ncount  406.000000   406.000000   406.0    406.000000  398.000000   400.000000   \nmean     5.475369  2979.413793  1970.0     15.519704   23.514573   105.082500   \nstd      1.712160   847.004328     0.0      2.803359    7.815984    38.768779   \nmin      3.000000  1613.000000  1970.0      8.000000    9.000000    46.000000   \n25%      4.000000  2226.500000  1970.0     13.700000   17.500000    75.750000   \n50%      4.000000  2822.500000  1970.0     15.500000   23.000000    95.000000   \n75%      8.000000  3618.250000  1970.0     17.175000   29.000000   130.000000   \nmax      8.000000  5140.000000  1970.0     24.800000   46.600000   230.000000   \n\n       displacement  \ncount    406.000000  \nmean     194.779557  \nstd      104.922458  \nmin       68.000000  \n25%      105.000000  \n50%      151.000000  \n75%      302.000000  \nmax      455.000000  ",
      "text/html": "<div>\n<style scoped>\n    .dataframe tbody tr th:only-of-type {\n        vertical-align: middle;\n    }\n\n    .dataframe tbody tr th {\n        vertical-align: top;\n    }\n\n    .dataframe thead th {\n        text-align: right;\n    }\n</style>\n<table border=\"1\" class=\"dataframe\">\n  <thead>\n    <tr style=\"text-align: right;\">\n      <th></th>\n      <th>cylinders</th>\n      <th>weight</th>\n      <th>year</th>\n      <th>accelaration</th>\n      <th>mpg</th>\n      <th>horse_power</th>\n      <th>displacement</th>\n    </tr>\n  </thead>\n  <tbody>\n    <tr>\n      <th>count</th>\n      <td>406.000000</td>\n      <td>406.000000</td>\n      <td>406.0</td>\n      <td>406.000000</td>\n      <td>398.000000</td>\n      <td>400.000000</td>\n      <td>406.000000</td>\n    </tr>\n    <tr>\n      <th>mean</th>\n      <td>5.475369</td>\n      <td>2979.413793</td>\n      <td>1970.0</td>\n      <td>15.519704</td>\n      <td>23.514573</td>\n      <td>105.082500</td>\n      <td>194.779557</td>\n    </tr>\n    <tr>\n      <th>std</th>\n      <td>1.712160</td>\n      <td>847.004328</td>\n      <td>0.0</td>\n      <td>2.803359</td>\n      <td>7.815984</td>\n      <td>38.768779</td>\n      <td>104.922458</td>\n    </tr>\n    <tr>\n      <th>min</th>\n      <td>3.000000</td>\n      <td>1613.000000</td>\n      <td>1970.0</td>\n      <td>8.000000</td>\n      <td>9.000000</td>\n      <td>46.000000</td>\n      <td>68.000000</td>\n    </tr>\n    <tr>\n      <th>25%</th>\n      <td>4.000000</td>\n      <td>2226.500000</td>\n      <td>1970.0</td>\n      <td>13.700000</td>\n      <td>17.500000</td>\n      <td>75.750000</td>\n      <td>105.000000</td>\n    </tr>\n    <tr>\n      <th>50%</th>\n      <td>4.000000</td>\n      <td>2822.500000</td>\n      <td>1970.0</td>\n      <td>15.500000</td>\n      <td>23.000000</td>\n      <td>95.000000</td>\n      <td>151.000000</td>\n    </tr>\n    <tr>\n      <th>75%</th>\n      <td>8.000000</td>\n      <td>3618.250000</td>\n      <td>1970.0</td>\n      <td>17.175000</td>\n      <td>29.000000</td>\n      <td>130.000000</td>\n      <td>302.000000</td>\n    </tr>\n    <tr>\n      <th>max</th>\n      <td>8.000000</td>\n      <td>5140.000000</td>\n      <td>1970.0</td>\n      <td>24.800000</td>\n      <td>46.600000</td>\n      <td>230.000000</td>\n      <td>455.000000</td>\n    </tr>\n  </tbody>\n</table>\n</div>"
     },
     "execution_count": 13,
     "metadata": {},
     "output_type": "execute_result"
    }
   ],
   "source": [
    "df.describe()"
   ],
   "metadata": {
    "collapsed": false,
    "pycharm": {
     "name": "#%%\n"
    }
   }
  },
  {
   "cell_type": "code",
   "execution_count": 13,
   "outputs": [],
   "source": [],
   "metadata": {
    "collapsed": false,
    "pycharm": {
     "name": "#%%\n"
    }
   }
  },
  {
   "cell_type": "markdown",
   "source": [
    "## EXPLORATORY DATA ANALYSIS (EDA)\n",
    "1. Check missing data\n",
    "2. Infrequent items\n",
    "3. Stability over time (time series)\n",
    "4. Mis-spellings\n",
    "5. Visualize your columns"
   ],
   "metadata": {
    "collapsed": false,
    "pycharm": {
     "name": "#%% md\n"
    }
   }
  },
  {
   "cell_type": "code",
   "execution_count": 14,
   "outputs": [
    {
     "data": {
      "text/plain": "USA    406\nName: territory, dtype: int64"
     },
     "execution_count": 14,
     "metadata": {},
     "output_type": "execute_result"
    }
   ],
   "source": [
    "df.territory.value_counts()\n"
   ],
   "metadata": {
    "collapsed": false,
    "pycharm": {
     "name": "#%%\n"
    }
   }
  },
  {
   "cell_type": "code",
   "execution_count": 15,
   "outputs": [
    {
     "data": {
      "text/plain": "4    207\n8    108\n6     84\n3      4\n5      3\nName: cylinders, dtype: int64"
     },
     "execution_count": 15,
     "metadata": {},
     "output_type": "execute_result"
    }
   ],
   "source": [
    "df.cylinders.value_counts()\n"
   ],
   "metadata": {
    "collapsed": false,
    "pycharm": {
     "name": "#%%\n"
    }
   }
  },
  {
   "cell_type": "code",
   "execution_count": 16,
   "outputs": [
    {
     "data": {
      "text/plain": "USA    406\nName: territory, dtype: int64"
     },
     "execution_count": 16,
     "metadata": {},
     "output_type": "execute_result"
    }
   ],
   "source": [
    "df.territory.value_counts().sort_index()"
   ],
   "metadata": {
    "collapsed": false,
    "pycharm": {
     "name": "#%%\n"
    }
   }
  },
  {
   "cell_type": "code",
   "execution_count": 17,
   "outputs": [
    {
     "data": {
      "text/plain": "Text(0.5, 1.0, 'Counts for each cylinder type')"
     },
     "execution_count": 17,
     "metadata": {},
     "output_type": "execute_result"
    },
    {
     "data": {
      "text/plain": "<Figure size 432x288 with 1 Axes>",
      "image/png": "[encoded data removed]"
     },
     "metadata": {
      "needs_background": "light"
     },
     "output_type": "display_data"
    }
   ],
   "source": [
    "ax=sns.countplot(data=df,y='cylinders')\n",
    "ax.set_title('Counts for each cylinder type')\n"
   ],
   "metadata": {
    "collapsed": false,
    "pycharm": {
     "name": "#%%\n"
    }
   }
  },
  {
   "cell_type": "code",
   "execution_count": 22,
   "outputs": [
    {
     "data": {
      "text/plain": "<Figure size 432x288 with 1 Axes>",
      "image/png": "[encoded data removed]"
     },
     "metadata": {
      "needs_background": "light"
     },
     "output_type": "display_data"
    }
   ],
   "source": [
    "ax=sns.countplot(data=df,x='year')\n",
    "ax.set_title('Counts of car per year')\n",
    "plt.xticks(rotation=45)"
   ],
   "metadata": {
    "collapsed": false,
    "pycharm": {
     "name": "#%%\n"
    }
   }
  },
  {
   "cell_type": "code",
   "execution_count": null,
   "outputs": [],
   "source": [],
   "metadata": {
    "collapsed": false,
    "pycharm": {
     "name": "#%%\n"
    }
   }
  }
 ],
 "metadata": {
  "kernelspec": {
   "display_name": "Python 3 (ipykernel)",
   "language": "python",
   "name": "python3"
  },
  "language_info": {
   "codemirror_mode": {
    "name": "ipython",
    "version": 3
   },
   "file_extension": ".py",
   "mimetype": "text/x-python",
   "name": "python",
   "nbconvert_exporter": "python",
   "pygments_lexer": "ipython3",
   "version": "3.9.7"
  }
 },
 "nbformat": 4,
 "nbformat_minor": 1
}