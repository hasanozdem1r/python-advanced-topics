{
 "cells": [
  {
   "cell_type": "code",
   "execution_count": 9,
   "metadata": {},
   "outputs": [],
   "source": [
    "import pandas as pd\n",
    "import os\n",
    "import requests\n",
    "from bs4 import BeautifulSoup"
   ]
  },
  {
   "cell_type": "code",
   "execution_count": 2,
   "metadata": {},
   "outputs": [],
   "source": [
    "CWD = os.getcwd()"
   ]
  },
  {
   "cell_type": "code",
   "execution_count": 14,
   "metadata": {},
   "outputs": [],
   "source": [
    "def get_current_currency_rate(currency_from: str, currency_to: str) -> float:\n",
    "    \"\"\"\n",
    "    This method is used to scrap real time currency from x-rates.com. This method return us rate of given comparison\n",
    "    @param currency_from: <str> currency from\n",
    "    @param currency_to: <str> currency to\n",
    "    return rate: <float> rate of target currency\n",
    "    \"\"\"\n",
    "    currency_from = currency_from.upper()\n",
    "    currency_to = currency_to.upper()\n",
    "    request_url: str = f\"https://www.x-rates.com/calculator/?from={currency_from}&to={currency_to}&amount=1\"\n",
    "    with requests.Session() as session:\n",
    "        response = session.get(url=request_url)\n",
    "        soup_obj = BeautifulSoup(response.text, \"html.parser\")\n",
    "\n",
    "    part1 = soup_obj.find(class_=\"ccOutputTrail\").previous_sibling\n",
    "    part2 = soup_obj.find(class_=\"ccOutputTrail\").get_text(strip=True)\n",
    "    rate = \"{}{}\".format(part1, part2)\n",
    "    return float(rate)"
   ]
  },
  {
   "cell_type": "code",
   "execution_count": 15,
   "metadata": {},
   "outputs": [
    {
     "data": {
      "text/plain": [
       "23.654252"
      ]
     },
     "execution_count": 15,
     "metadata": {},
     "output_type": "execute_result"
    }
   ],
   "source": [
    "get_current_currency_rate('USD', 'TRY')"
   ]
  },
  {
   "cell_type": "code",
   "execution_count": 92,
   "metadata": {},
   "outputs": [],
   "source": [
    "def get_currency_by_day(currency_from: str, date: str):\n",
    "    c_from = currency_from.upper()\n",
    "    date = date.upper()\n",
    "    request_url: str = f\"https://www.x-rates.com/historical/?from={c_from}&amount=1&date={date}\"\n",
    "    with requests.Session() as session:\n",
    "        response = session.get(url=request_url)\n",
    "        soup_obj = BeautifulSoup(response.text, \"html.parser\")\n",
    "    # parse html\n",
    "    table = soup_obj.find('table', {\n",
    "        'class': 'ratesTable'\n",
    "    }).find('tbody').find_all('tr')\n",
    "    for item in table:\n",
    "        data = item.find_all('td')\n",
    "        currency_name = data[0].text\n",
    "        currency_amount = data[1].find('a').text\n",
    "        inv_currency_amount = data[2].find('a').text\n",
    "        print(currency_name, currency_amount, inv_currency_amount)"
   ]
  },
  {
   "cell_type": "code",
   "execution_count": 93,
   "metadata": {},
   "outputs": [
    {
     "name": "stdout",
     "output_type": "stream",
     "text": [
      "Euro 0.888573 1.125400\n",
      "British Pound 0.797237 1.254332\n",
      "Indian Rupee 75.947557 0.013167\n",
      "Australian Dollar 1.457916 0.685911\n",
      "Canadian Dollar 1.358219 0.736258\n",
      "Singapore Dollar 1.392472 0.718147\n",
      "Swiss Franc 0.952163 1.050240\n",
      "Malaysian Ringgit 4.270633 0.234157\n",
      "Japanese Yen 107.384826 0.009312\n",
      "Chinese Yuan Renminbi 7.081075 0.141221\n"
     ]
    }
   ],
   "source": [
    "get_currency_by_day(currency_from='USD', date='2020-06-14')"
   ]
  },
  {
   "cell_type": "code",
   "execution_count": null,
   "metadata": {},
   "outputs": [],
   "source": []
  }
 ],
 "metadata": {
  "kernelspec": {
   "display_name": ".venv",
   "language": "python",
   "name": "python3"
  },
  "language_info": {
   "codemirror_mode": {
    "name": "ipython",
    "version": 3
   },
   "file_extension": ".py",
   "mimetype": "text/x-python",
   "name": "python",
   "nbconvert_exporter": "python",
   "pygments_lexer": "ipython3",
   "version": "3.9.7"
  },
  "orig_nbformat": 4
 },
 "nbformat": 4,
 "nbformat_minor": 2
}
